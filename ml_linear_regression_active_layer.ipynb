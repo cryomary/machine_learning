{
 "cells": [
  {
   "cell_type": "markdown",
   "id": "4e30ecaa",
   "metadata": {},
   "source": [
    "# ОБУЧЕНИЕ И ОЦЕНКА РЕГРЕССИОННОЙ МОДЕЛИ ДЛЯ ПРЕДСКАЗАНИЯ ГЛУБИНЫ СЕЗОННОГО ПРОТАИВАНИЯ УЧ. ОЛЬСКИЙ ПЕРЕВАЛ (МАГАДАНСКАЯ ОБЛАСТЬ)"
   ]
  },
  {
   "cell_type": "markdown",
   "id": "9b2c660c",
   "metadata": {},
   "source": [
    "> **ДИСКЛЕЙМЕР:** не претендую на абсолютную правильность обучения модели и точность прогнозируемых данных. Пробую и исследую новое для себя направление :) "
   ]
  },
  {
   "cell_type": "markdown",
   "id": "1951fa0b",
   "metadata": {},
   "source": [
    "**ЦЕЛЬ** -  обучить и оценить регрессионую модель на предсказание глубины сезонного протаивания грунтов по фактическим данным.\n",
    "\n",
    "**Задачи:**\n",
    "- подготовить данные\n",
    "- выполнить предварительную обработку данных\n",
    "- выполнить исследовательский анализ данных (корреляцию независимых переменных с зависимой, целевой переменной)\n",
    "- отобрать и выделить признаки\n",
    "- обучить и оценить качество модели\n",
    "\n",
    "Работать будем с датасетом, который содержит данные по глубине сезонного протаивания, температуре воздуха, суммам отрицательных и положительных температур, коэффициенту морозности и температурам грунта на разных глубинах для участка \"Ольский перевал\" за 2009-2022 гг. (14 лет). Данные по глубине сезонного протаивания и температуре грунтов на разных глубинах были получены сотрудниками СВНИМС ИМЗ СО РАН [Рожина, 2023]. Массив значений, содержащий температуры воздуха, был предоставлен сайтом http://www.pogodaiklimat.ru/."
   ]
  },
  {
   "cell_type": "markdown",
   "id": "442df98b",
   "metadata": {},
   "source": [
    "## Подготовка данных"
   ]
  },
  {
   "cell_type": "code",
   "execution_count": 1,
   "id": "f42467dc",
   "metadata": {},
   "outputs": [],
   "source": [
    "# импортируем библиотеки\n",
    "import pandas as pd\n",
    "import numpy as np\n",
    "import matplotlib.pyplot as plt "
   ]
  },
  {
   "cell_type": "code",
   "execution_count": 2,
   "id": "6fda267a",
   "metadata": {},
   "outputs": [
    {
     "data": {
      "text/html": [
       "<div>\n",
       "<style scoped>\n",
       "    .dataframe tbody tr th:only-of-type {\n",
       "        vertical-align: middle;\n",
       "    }\n",
       "\n",
       "    .dataframe tbody tr th {\n",
       "        vertical-align: top;\n",
       "    }\n",
       "\n",
       "    .dataframe thead th {\n",
       "        text-align: right;\n",
       "    }\n",
       "</style>\n",
       "<table border=\"1\" class=\"dataframe\">\n",
       "  <thead>\n",
       "    <tr style=\"text-align: right;\">\n",
       "      <th></th>\n",
       "      <th>date</th>\n",
       "      <th>CTC</th>\n",
       "      <th>air</th>\n",
       "      <th>FDD</th>\n",
       "      <th>DDT</th>\n",
       "      <th>F</th>\n",
       "      <th>3_m</th>\n",
       "      <th>5_m</th>\n",
       "      <th>10_m</th>\n",
       "      <th>15_m</th>\n",
       "      <th>20_m</th>\n",
       "    </tr>\n",
       "  </thead>\n",
       "  <tbody>\n",
       "    <tr>\n",
       "      <th>0</th>\n",
       "      <td>2009-01-01</td>\n",
       "      <td>5.3</td>\n",
       "      <td>-1.653679</td>\n",
       "      <td>-2035.158929</td>\n",
       "      <td>1469.133333</td>\n",
       "      <td>0.540648</td>\n",
       "      <td>-1.100657</td>\n",
       "      <td>-1.283563</td>\n",
       "      <td>-1.517655</td>\n",
       "      <td>-1.599947</td>\n",
       "      <td>-1.605</td>\n",
       "    </tr>\n",
       "    <tr>\n",
       "      <th>1</th>\n",
       "      <td>2010-01-01</td>\n",
       "      <td>5.0</td>\n",
       "      <td>-2.905204</td>\n",
       "      <td>-2453.791071</td>\n",
       "      <td>1426.903571</td>\n",
       "      <td>0.567354</td>\n",
       "      <td>-1.465113</td>\n",
       "      <td>-1.262894</td>\n",
       "      <td>-1.375968</td>\n",
       "      <td>-1.473721</td>\n",
       "      <td>-1.600</td>\n",
       "    </tr>\n",
       "    <tr>\n",
       "      <th>2</th>\n",
       "      <td>2011-01-01</td>\n",
       "      <td>4.9</td>\n",
       "      <td>-1.713837</td>\n",
       "      <td>-1903.846429</td>\n",
       "      <td>1321.431071</td>\n",
       "      <td>0.545519</td>\n",
       "      <td>-1.116105</td>\n",
       "      <td>-1.161681</td>\n",
       "      <td>-1.275965</td>\n",
       "      <td>-1.403312</td>\n",
       "      <td>-1.440</td>\n",
       "    </tr>\n",
       "    <tr>\n",
       "      <th>3</th>\n",
       "      <td>2012-01-01</td>\n",
       "      <td>4.6</td>\n",
       "      <td>-3.166944</td>\n",
       "      <td>-2382.589286</td>\n",
       "      <td>1238.628571</td>\n",
       "      <td>0.581052</td>\n",
       "      <td>-0.803799</td>\n",
       "      <td>-0.505705</td>\n",
       "      <td>-1.272681</td>\n",
       "      <td>-1.477776</td>\n",
       "      <td>-1.520</td>\n",
       "    </tr>\n",
       "    <tr>\n",
       "      <th>4</th>\n",
       "      <td>2013-01-01</td>\n",
       "      <td>4.7</td>\n",
       "      <td>-1.815552</td>\n",
       "      <td>-2030.006548</td>\n",
       "      <td>1398.614286</td>\n",
       "      <td>0.546435</td>\n",
       "      <td>-1.456511</td>\n",
       "      <td>-0.704000</td>\n",
       "      <td>-1.499854</td>\n",
       "      <td>-1.670000</td>\n",
       "      <td>-1.530</td>\n",
       "    </tr>\n",
       "  </tbody>\n",
       "</table>\n",
       "</div>"
      ],
      "text/plain": [
       "        date  CTC       air          FDD          DDT         F       3_m  \\\n",
       "0 2009-01-01  5.3 -1.653679 -2035.158929  1469.133333  0.540648 -1.100657   \n",
       "1 2010-01-01  5.0 -2.905204 -2453.791071  1426.903571  0.567354 -1.465113   \n",
       "2 2011-01-01  4.9 -1.713837 -1903.846429  1321.431071  0.545519 -1.116105   \n",
       "3 2012-01-01  4.6 -3.166944 -2382.589286  1238.628571  0.581052 -0.803799   \n",
       "4 2013-01-01  4.7 -1.815552 -2030.006548  1398.614286  0.546435 -1.456511   \n",
       "\n",
       "        5_m      10_m      15_m   20_m  \n",
       "0 -1.283563 -1.517655 -1.599947 -1.605  \n",
       "1 -1.262894 -1.375968 -1.473721 -1.600  \n",
       "2 -1.161681 -1.275965 -1.403312 -1.440  \n",
       "3 -0.505705 -1.272681 -1.477776 -1.520  \n",
       "4 -0.704000 -1.499854 -1.670000 -1.530  "
      ]
     },
     "execution_count": 2,
     "metadata": {},
     "output_type": "execute_result"
    }
   ],
   "source": [
    "# датасет с временным рядом\n",
    "data = pd.read_excel(r'E:\\2023\\тюмень\\4m_regression.xlsx', na_values=[\".\"], parse_dates=[\"date\"]) \n",
    "\n",
    "# выведем первые 5 строк\n",
    "data.head() "
   ]
  },
  {
   "cell_type": "markdown",
   "id": "a5dc28e2",
   "metadata": {},
   "source": [
    "<div class=\"alert alert-info\">\n",
    "    \n",
    "**📝 Комментарий Маши**\n",
    "    \n",
    "Датасет содержит данные о глубине сезонного протаивания, температуре воздуха, суммах отрицательных и положительных температур, коэффициента морозности и температуры грунта на разных глубинах для участка \"Ольский перевал\" за 2009-2022 гг. (14 лет).\n",
    "    \n",
    "</div>"
   ]
  },
  {
   "cell_type": "markdown",
   "id": "a09b8dfe",
   "metadata": {},
   "source": [
    "## Предварительная обработка данных"
   ]
  },
  {
   "cell_type": "markdown",
   "id": "36068760",
   "metadata": {},
   "source": [
    "Поработаем с пропусками"
   ]
  },
  {
   "cell_type": "code",
   "execution_count": 3,
   "id": "9547c6c6",
   "metadata": {},
   "outputs": [
    {
     "data": {
      "text/plain": [
       "date    0\n",
       "CTC     1\n",
       "air     0\n",
       "FDD     0\n",
       "DDT     0\n",
       "F       0\n",
       "3_m     1\n",
       "5_m     1\n",
       "10_m    1\n",
       "15_m    1\n",
       "20_m    0\n",
       "dtype: int64"
      ]
     },
     "execution_count": 3,
     "metadata": {},
     "output_type": "execute_result"
    }
   ],
   "source": [
    "# посчитаем пропуски для каждого столбца\n",
    "data.isnull().sum() "
   ]
  },
  {
   "cell_type": "code",
   "execution_count": 4,
   "id": "5a56e901",
   "metadata": {},
   "outputs": [],
   "source": [
    "# заполним пропуски средним арифметическим между двумя соседними известными числами\n",
    "data[\"CTC\"] = data[\"CTC\"].interpolate()\n",
    "data[\"3_m\"] = data[\"3_m\"].interpolate()\n",
    "data[\"5_m\"] = data[\"5_m\"].interpolate()\n",
    "data[\"10_m\"] = data[\"10_m\"].interpolate()\n",
    "data[\"15_m\"] = data[\"15_m\"].interpolate()"
   ]
  },
  {
   "cell_type": "markdown",
   "id": "afade429",
   "metadata": {},
   "source": [
    "Необходимо определить тип переменных, с которым нам предстоит работать. От этого будет зависеть, какие статистические графики и инструменты мы будем применять при анализе данных."
   ]
  },
  {
   "cell_type": "code",
   "execution_count": 5,
   "id": "1f2f69e2",
   "metadata": {},
   "outputs": [
    {
     "name": "stdout",
     "output_type": "stream",
     "text": [
      "<class 'pandas.core.frame.DataFrame'>\n",
      "RangeIndex: 14 entries, 0 to 13\n",
      "Data columns (total 11 columns):\n",
      " #   Column  Non-Null Count  Dtype         \n",
      "---  ------  --------------  -----         \n",
      " 0   date    14 non-null     datetime64[ns]\n",
      " 1   CTC     14 non-null     float64       \n",
      " 2   air     14 non-null     float64       \n",
      " 3   FDD     14 non-null     float64       \n",
      " 4   DDT     14 non-null     float64       \n",
      " 5   F       14 non-null     float64       \n",
      " 6   3_m     14 non-null     float64       \n",
      " 7   5_m     14 non-null     float64       \n",
      " 8   10_m    14 non-null     float64       \n",
      " 9   15_m    14 non-null     float64       \n",
      " 10  20_m    14 non-null     float64       \n",
      "dtypes: datetime64[ns](1), float64(10)\n",
      "memory usage: 1.3 KB\n"
     ]
    }
   ],
   "source": [
    "# для этого есть метод .info()\n",
    "data.info()"
   ]
  },
  {
   "cell_type": "markdown",
   "id": "a9d610e7",
   "metadata": {},
   "source": [
    "Все переменные, кроме даты, являются количественными (тип float). Мы можем посмотреть основные статистические показатели (summary statistics):"
   ]
  },
  {
   "cell_type": "code",
   "execution_count": 6,
   "id": "3f26e4fd",
   "metadata": {},
   "outputs": [
    {
     "data": {
      "text/html": [
       "<div>\n",
       "<style scoped>\n",
       "    .dataframe tbody tr th:only-of-type {\n",
       "        vertical-align: middle;\n",
       "    }\n",
       "\n",
       "    .dataframe tbody tr th {\n",
       "        vertical-align: top;\n",
       "    }\n",
       "\n",
       "    .dataframe thead th {\n",
       "        text-align: right;\n",
       "    }\n",
       "</style>\n",
       "<table border=\"1\" class=\"dataframe\">\n",
       "  <thead>\n",
       "    <tr style=\"text-align: right;\">\n",
       "      <th></th>\n",
       "      <th>CTC</th>\n",
       "      <th>air</th>\n",
       "      <th>FDD</th>\n",
       "      <th>DDT</th>\n",
       "      <th>F</th>\n",
       "      <th>3_m</th>\n",
       "      <th>5_m</th>\n",
       "      <th>10_m</th>\n",
       "      <th>15_m</th>\n",
       "      <th>20_m</th>\n",
       "    </tr>\n",
       "  </thead>\n",
       "  <tbody>\n",
       "    <tr>\n",
       "      <th>count</th>\n",
       "      <td>14.00</td>\n",
       "      <td>14.00</td>\n",
       "      <td>14.00</td>\n",
       "      <td>14.00</td>\n",
       "      <td>14.00</td>\n",
       "      <td>14.00</td>\n",
       "      <td>14.00</td>\n",
       "      <td>14.00</td>\n",
       "      <td>14.00</td>\n",
       "      <td>14.00</td>\n",
       "    </tr>\n",
       "    <tr>\n",
       "      <th>mean</th>\n",
       "      <td>4.99</td>\n",
       "      <td>-1.96</td>\n",
       "      <td>-2097.29</td>\n",
       "      <td>1403.60</td>\n",
       "      <td>0.55</td>\n",
       "      <td>-0.79</td>\n",
       "      <td>-1.00</td>\n",
       "      <td>-1.32</td>\n",
       "      <td>-1.38</td>\n",
       "      <td>-1.41</td>\n",
       "    </tr>\n",
       "    <tr>\n",
       "      <th>std</th>\n",
       "      <td>0.32</td>\n",
       "      <td>0.67</td>\n",
       "      <td>229.71</td>\n",
       "      <td>71.96</td>\n",
       "      <td>0.01</td>\n",
       "      <td>1.13</td>\n",
       "      <td>0.34</td>\n",
       "      <td>0.13</td>\n",
       "      <td>0.19</td>\n",
       "      <td>0.13</td>\n",
       "    </tr>\n",
       "    <tr>\n",
       "      <th>min</th>\n",
       "      <td>4.50</td>\n",
       "      <td>-3.17</td>\n",
       "      <td>-2453.79</td>\n",
       "      <td>1238.63</td>\n",
       "      <td>0.53</td>\n",
       "      <td>-1.64</td>\n",
       "      <td>-1.46</td>\n",
       "      <td>-1.52</td>\n",
       "      <td>-1.67</td>\n",
       "      <td>-1.60</td>\n",
       "    </tr>\n",
       "    <tr>\n",
       "      <th>25%</th>\n",
       "      <td>4.75</td>\n",
       "      <td>-2.53</td>\n",
       "      <td>-2287.98</td>\n",
       "      <td>1379.15</td>\n",
       "      <td>0.54</td>\n",
       "      <td>-1.41</td>\n",
       "      <td>-1.25</td>\n",
       "      <td>-1.41</td>\n",
       "      <td>-1.50</td>\n",
       "      <td>-1.52</td>\n",
       "    </tr>\n",
       "    <tr>\n",
       "      <th>50%</th>\n",
       "      <td>5.05</td>\n",
       "      <td>-1.76</td>\n",
       "      <td>-2052.74</td>\n",
       "      <td>1412.76</td>\n",
       "      <td>0.55</td>\n",
       "      <td>-1.10</td>\n",
       "      <td>-1.10</td>\n",
       "      <td>-1.31</td>\n",
       "      <td>-1.37</td>\n",
       "      <td>-1.42</td>\n",
       "    </tr>\n",
       "    <tr>\n",
       "      <th>75%</th>\n",
       "      <td>5.25</td>\n",
       "      <td>-1.53</td>\n",
       "      <td>-1930.08</td>\n",
       "      <td>1458.85</td>\n",
       "      <td>0.56</td>\n",
       "      <td>-0.86</td>\n",
       "      <td>-0.76</td>\n",
       "      <td>-1.25</td>\n",
       "      <td>-1.22</td>\n",
       "      <td>-1.32</td>\n",
       "    </tr>\n",
       "    <tr>\n",
       "      <th>max</th>\n",
       "      <td>5.50</td>\n",
       "      <td>-0.96</td>\n",
       "      <td>-1771.62</td>\n",
       "      <td>1501.61</td>\n",
       "      <td>0.58</td>\n",
       "      <td>2.62</td>\n",
       "      <td>-0.29</td>\n",
       "      <td>-1.10</td>\n",
       "      <td>-1.08</td>\n",
       "      <td>-1.23</td>\n",
       "    </tr>\n",
       "  </tbody>\n",
       "</table>\n",
       "</div>"
      ],
      "text/plain": [
       "         CTC    air      FDD      DDT      F    3_m    5_m   10_m   15_m  \\\n",
       "count  14.00  14.00    14.00    14.00  14.00  14.00  14.00  14.00  14.00   \n",
       "mean    4.99  -1.96 -2097.29  1403.60   0.55  -0.79  -1.00  -1.32  -1.38   \n",
       "std     0.32   0.67   229.71    71.96   0.01   1.13   0.34   0.13   0.19   \n",
       "min     4.50  -3.17 -2453.79  1238.63   0.53  -1.64  -1.46  -1.52  -1.67   \n",
       "25%     4.75  -2.53 -2287.98  1379.15   0.54  -1.41  -1.25  -1.41  -1.50   \n",
       "50%     5.05  -1.76 -2052.74  1412.76   0.55  -1.10  -1.10  -1.31  -1.37   \n",
       "75%     5.25  -1.53 -1930.08  1458.85   0.56  -0.86  -0.76  -1.25  -1.22   \n",
       "max     5.50  -0.96 -1771.62  1501.61   0.58   2.62  -0.29  -1.10  -1.08   \n",
       "\n",
       "        20_m  \n",
       "count  14.00  \n",
       "mean   -1.41  \n",
       "std     0.13  \n",
       "min    -1.60  \n",
       "25%    -1.52  \n",
       "50%    -1.42  \n",
       "75%    -1.32  \n",
       "max    -1.23  "
      ]
     },
     "execution_count": 6,
     "metadata": {},
     "output_type": "execute_result"
    }
   ],
   "source": [
    "# для этого воспользуемся методом .describe() и округлим значения\n",
    "data.describe().round(2)"
   ]
  },
  {
   "cell_type": "markdown",
   "id": "55189264",
   "metadata": {},
   "source": [
    "<div class=\"alert alert-info\">\n",
    "    \n",
    "**📝 Комментарий Маши**\n",
    "    \n",
    "Выполнили предварительную обработку данных - заменили пропуски на среднее арифметическое между двумя соседними известными числами и перевели данные столбца с датами в верный формат. Это необходимо для дальнейшего обучения модели.\n",
    "    \n",
    "В частности, вывели количество наблюдений (count), среднее арифметическое (mean), среднее квадратическое отклонение (std), минимальное (min) и максимальное (max) значения, а также первый (25%), второй (50%) и третий (75%) квартиль (второй квартиль это то же самое, что медиана) каждой количественной переменной.\n",
    "    \n",
    "</div>"
   ]
  },
  {
   "cell_type": "markdown",
   "id": "10423d02",
   "metadata": {},
   "source": [
    "## Исследовательский анализ данных"
   ]
  },
  {
   "cell_type": "markdown",
   "id": "14cd8a54",
   "metadata": {},
   "source": [
    "После предобработки данных выполним исследовательский или разведочный анализ данных (Exploratory Data Analysis, EDA). По большом счету, от нас требуется понять какие взаимосвязи мы можем выявить между переменными, чтобы потом построить модель.\n",
    "\n",
    "Основной инструмент, который нам доступен на данный момент, это корреляция независимых переменных (признаков, описывающих природные условия) с зависимой, целевой переменной (глубиной сезонного протаивания грунтов). Сильная корреляция - когда значение приближается к 1 или −1, ее отсутствие - когда значение близко к нулю."
   ]
  },
  {
   "cell_type": "markdown",
   "id": "303ebdad",
   "metadata": {},
   "source": [
    "Посчитаем коэффициент корреляции для всего датафрейма и округлим значение"
   ]
  },
  {
   "cell_type": "code",
   "execution_count": 7,
   "id": "8ac2cccd",
   "metadata": {},
   "outputs": [
    {
     "data": {
      "text/html": [
       "<div>\n",
       "<style scoped>\n",
       "    .dataframe tbody tr th:only-of-type {\n",
       "        vertical-align: middle;\n",
       "    }\n",
       "\n",
       "    .dataframe tbody tr th {\n",
       "        vertical-align: top;\n",
       "    }\n",
       "\n",
       "    .dataframe thead th {\n",
       "        text-align: right;\n",
       "    }\n",
       "</style>\n",
       "<table border=\"1\" class=\"dataframe\">\n",
       "  <thead>\n",
       "    <tr style=\"text-align: right;\">\n",
       "      <th></th>\n",
       "      <th>CTC</th>\n",
       "      <th>air</th>\n",
       "      <th>FDD</th>\n",
       "      <th>DDT</th>\n",
       "      <th>F</th>\n",
       "      <th>3_m</th>\n",
       "      <th>5_m</th>\n",
       "      <th>10_m</th>\n",
       "      <th>15_m</th>\n",
       "      <th>20_m</th>\n",
       "    </tr>\n",
       "  </thead>\n",
       "  <tbody>\n",
       "    <tr>\n",
       "      <th>CTC</th>\n",
       "      <td>1.00</td>\n",
       "      <td>0.28</td>\n",
       "      <td>0.13</td>\n",
       "      <td>0.62</td>\n",
       "      <td>-0.38</td>\n",
       "      <td>0.21</td>\n",
       "      <td>-0.13</td>\n",
       "      <td>-0.30</td>\n",
       "      <td>-0.28</td>\n",
       "      <td>-0.25</td>\n",
       "    </tr>\n",
       "    <tr>\n",
       "      <th>air</th>\n",
       "      <td>0.28</td>\n",
       "      <td>1.00</td>\n",
       "      <td>0.96</td>\n",
       "      <td>0.30</td>\n",
       "      <td>-0.99</td>\n",
       "      <td>0.27</td>\n",
       "      <td>0.10</td>\n",
       "      <td>0.07</td>\n",
       "      <td>0.06</td>\n",
       "      <td>0.25</td>\n",
       "    </tr>\n",
       "    <tr>\n",
       "      <th>FDD</th>\n",
       "      <td>0.13</td>\n",
       "      <td>0.96</td>\n",
       "      <td>1.00</td>\n",
       "      <td>0.02</td>\n",
       "      <td>-0.91</td>\n",
       "      <td>0.27</td>\n",
       "      <td>0.21</td>\n",
       "      <td>0.08</td>\n",
       "      <td>-0.04</td>\n",
       "      <td>0.19</td>\n",
       "    </tr>\n",
       "    <tr>\n",
       "      <th>DDT</th>\n",
       "      <td>0.62</td>\n",
       "      <td>0.30</td>\n",
       "      <td>0.02</td>\n",
       "      <td>1.00</td>\n",
       "      <td>-0.44</td>\n",
       "      <td>0.00</td>\n",
       "      <td>-0.35</td>\n",
       "      <td>-0.11</td>\n",
       "      <td>0.21</td>\n",
       "      <td>0.11</td>\n",
       "    </tr>\n",
       "    <tr>\n",
       "      <th>F</th>\n",
       "      <td>-0.38</td>\n",
       "      <td>-0.99</td>\n",
       "      <td>-0.91</td>\n",
       "      <td>-0.44</td>\n",
       "      <td>1.00</td>\n",
       "      <td>-0.24</td>\n",
       "      <td>-0.02</td>\n",
       "      <td>-0.03</td>\n",
       "      <td>-0.06</td>\n",
       "      <td>-0.22</td>\n",
       "    </tr>\n",
       "    <tr>\n",
       "      <th>3_m</th>\n",
       "      <td>0.21</td>\n",
       "      <td>0.27</td>\n",
       "      <td>0.27</td>\n",
       "      <td>0.00</td>\n",
       "      <td>-0.24</td>\n",
       "      <td>1.00</td>\n",
       "      <td>0.74</td>\n",
       "      <td>-0.15</td>\n",
       "      <td>-0.06</td>\n",
       "      <td>0.25</td>\n",
       "    </tr>\n",
       "    <tr>\n",
       "      <th>5_m</th>\n",
       "      <td>-0.13</td>\n",
       "      <td>0.10</td>\n",
       "      <td>0.21</td>\n",
       "      <td>-0.35</td>\n",
       "      <td>-0.02</td>\n",
       "      <td>0.74</td>\n",
       "      <td>1.00</td>\n",
       "      <td>-0.06</td>\n",
       "      <td>-0.24</td>\n",
       "      <td>0.05</td>\n",
       "    </tr>\n",
       "    <tr>\n",
       "      <th>10_m</th>\n",
       "      <td>-0.30</td>\n",
       "      <td>0.07</td>\n",
       "      <td>0.08</td>\n",
       "      <td>-0.11</td>\n",
       "      <td>-0.03</td>\n",
       "      <td>-0.15</td>\n",
       "      <td>-0.06</td>\n",
       "      <td>1.00</td>\n",
       "      <td>0.81</td>\n",
       "      <td>0.61</td>\n",
       "    </tr>\n",
       "    <tr>\n",
       "      <th>15_m</th>\n",
       "      <td>-0.28</td>\n",
       "      <td>0.06</td>\n",
       "      <td>-0.04</td>\n",
       "      <td>0.21</td>\n",
       "      <td>-0.06</td>\n",
       "      <td>-0.06</td>\n",
       "      <td>-0.24</td>\n",
       "      <td>0.81</td>\n",
       "      <td>1.00</td>\n",
       "      <td>0.83</td>\n",
       "    </tr>\n",
       "    <tr>\n",
       "      <th>20_m</th>\n",
       "      <td>-0.25</td>\n",
       "      <td>0.25</td>\n",
       "      <td>0.19</td>\n",
       "      <td>0.11</td>\n",
       "      <td>-0.22</td>\n",
       "      <td>0.25</td>\n",
       "      <td>0.05</td>\n",
       "      <td>0.61</td>\n",
       "      <td>0.83</td>\n",
       "      <td>1.00</td>\n",
       "    </tr>\n",
       "  </tbody>\n",
       "</table>\n",
       "</div>"
      ],
      "text/plain": [
       "       CTC   air   FDD   DDT     F   3_m   5_m  10_m  15_m  20_m\n",
       "CTC   1.00  0.28  0.13  0.62 -0.38  0.21 -0.13 -0.30 -0.28 -0.25\n",
       "air   0.28  1.00  0.96  0.30 -0.99  0.27  0.10  0.07  0.06  0.25\n",
       "FDD   0.13  0.96  1.00  0.02 -0.91  0.27  0.21  0.08 -0.04  0.19\n",
       "DDT   0.62  0.30  0.02  1.00 -0.44  0.00 -0.35 -0.11  0.21  0.11\n",
       "F    -0.38 -0.99 -0.91 -0.44  1.00 -0.24 -0.02 -0.03 -0.06 -0.22\n",
       "3_m   0.21  0.27  0.27  0.00 -0.24  1.00  0.74 -0.15 -0.06  0.25\n",
       "5_m  -0.13  0.10  0.21 -0.35 -0.02  0.74  1.00 -0.06 -0.24  0.05\n",
       "10_m -0.30  0.07  0.08 -0.11 -0.03 -0.15 -0.06  1.00  0.81  0.61\n",
       "15_m -0.28  0.06 -0.04  0.21 -0.06 -0.06 -0.24  0.81  1.00  0.83\n",
       "20_m -0.25  0.25  0.19  0.11 -0.22  0.25  0.05  0.61  0.83  1.00"
      ]
     },
     "execution_count": 7,
     "metadata": {},
     "output_type": "execute_result"
    }
   ],
   "source": [
    "# посчитаем коэффициент корреляции для всего датафрейма и округлим значение\n",
    "corr_matrix = data.corr().round(2)\n",
    "corr_matrix"
   ]
  },
  {
   "cell_type": "markdown",
   "id": "b4bfd2b1",
   "metadata": {},
   "source": [
    "<div class=\"alert alert-info\">\n",
    "    \n",
    "**📝 Комментарий Маши**\n",
    "    \n",
    "Такой способ представления корреляции называется корреляционной матрицей. В ней, в частности, мы видим (смотрите на первый столбец или строку), что переменная DDT (сумма положительных температур) имеет достаточно заметную корреляцию с целевой переменной СТС, 0,62. Умеренная обратная - с коэффициентом морозности (F) и температурой на глубине 10 м.\n",
    "    \n",
    "</div>"
   ]
  },
  {
   "cell_type": "markdown",
   "id": "64af52f2",
   "metadata": {},
   "source": [
    "Взаимосвязь двух переменных также можно визуализировать с помощью диаграммы рассеяния."
   ]
  },
  {
   "cell_type": "code",
   "execution_count": 8,
   "id": "efbd42f8",
   "metadata": {},
   "outputs": [
    {
     "data": {
      "text/plain": [
       "Text(0.5, 1.0, 'Глубина СТС и DDT')"
      ]
     },
     "execution_count": 8,
     "metadata": {},
     "output_type": "execute_result"
    },
    {
     "data": {
      "image/png": "[encoded data removed]",
      "text/plain": [
       "<Figure size 1000x600 with 1 Axes>"
      ]
     },
     "metadata": {},
     "output_type": "display_data"
    }
   ],
   "source": [
    "# зададим размер и построим график\n",
    "plt.figure(figsize = (10,6))\n",
    "plt.scatter(x=data['CTC'], y=data['DDT'])\n",
    " \n",
    "# добавим подписи\n",
    "plt.xlabel('Глубина сезонного протаивания', fontsize = 12)\n",
    "plt.ylabel('Сумма положительных температур', fontsize = 12)\n",
    "plt.title('Глубина СТС и DDT', fontsize = 15)"
   ]
  },
  {
   "cell_type": "markdown",
   "id": "71f4cfbf",
   "metadata": {},
   "source": [
    "## Отбор и выделение признаков"
   ]
  },
  {
   "cell_type": "markdown",
   "id": "b4532ef8",
   "metadata": {},
   "source": [
    "После сбора данных о взаимосвязи переменных, можем начать отбор наиболее значимых признаков (feature selection) и создание или выделение новых (feature extraction). В текущим исследовании, в частности, мы возьмем переменные DDT, F и 10_m, поскольку они имеют наиболее высокую корреляцию с целевой переменной СТС. Создавать новые признаки мы пока не будем.\n",
    "\n",
    "Поместим наши признаки в переменную X, а глубину сезонного протаивания в переменную y."
   ]
  },
  {
   "cell_type": "code",
   "execution_count": 9,
   "id": "5210ae6f",
   "metadata": {},
   "outputs": [],
   "source": [
    "# поместим наши признаки в переменную X, а глубины протаивания в переменную y\n",
    "X = data[['DDT', 'F', '10_m']]\n",
    "y = data['CTC']"
   ]
  },
  {
   "cell_type": "markdown",
   "id": "d313f282",
   "metadata": {},
   "source": [
    "<div class=\"alert alert-info\">\n",
    "    \n",
    "**📝 Комментарий Маши**\n",
    "    \n",
    "Как мы видим, большая часть времени уходит именно на подготовительные этапы работы с данными, а не на обучение модели и составление прогноза. Это нормально. \n",
    "    \n",
    "</div>"
   ]
  },
  {
   "cell_type": "markdown",
   "id": "7bbfdf07",
   "metadata": {},
   "source": [
    "## Обучение и оценка качества модели"
   ]
  },
  {
   "cell_type": "markdown",
   "id": "cb0d3a6a",
   "metadata": {},
   "source": [
    "После загрузки, предобработки и исследовательского анализа данных мы готовы к обучению модели. Вначале разобьем данные на обучающую и тестовую выборки."
   ]
  },
  {
   "cell_type": "code",
   "execution_count": 10,
   "id": "aadd7d74",
   "metadata": {},
   "outputs": [],
   "source": [
    "# импортируем необходимый модуль\n",
    "from sklearn.model_selection import train_test_split\n",
    " \n",
    "# размер тестовой выборки составит 30%\n",
    "# также зададим точку отсчета для воспроизводимости\n",
    "X_train, X_test, y_train, y_test = train_test_split(X, y, \n",
    "                                                    test_size = 0.3, \n",
    "                                                    random_state = 42)"
   ]
  },
  {
   "cell_type": "markdown",
   "id": "47060c5c",
   "metadata": {},
   "source": [
    "Посмотрим на размерность новых наборов данных:"
   ]
  },
  {
   "cell_type": "code",
   "execution_count": 11,
   "id": "d5d5a026",
   "metadata": {},
   "outputs": [
    {
     "name": "stdout",
     "output_type": "stream",
     "text": [
      "(9, 3) (9,)\n",
      "(5, 3) (5,)\n"
     ]
    }
   ],
   "source": [
    "# размерность обучающей\n",
    "print(X_train.shape, y_train.shape)\n",
    " \n",
    "# и тестовой выборки\n",
    "print(X_test.shape, y_test.shape)"
   ]
  },
  {
   "cell_type": "markdown",
   "id": "3ec57a49",
   "metadata": {},
   "source": [
    "Теперь обучим модель и сделаем прогноз."
   ]
  },
  {
   "cell_type": "code",
   "execution_count": 12,
   "id": "dfee86ec",
   "metadata": {},
   "outputs": [
    {
     "data": {
      "text/plain": [
       "LinearRegression()"
      ]
     },
     "execution_count": 12,
     "metadata": {},
     "output_type": "execute_result"
    }
   ],
   "source": [
    "# из набора линейных моделей библиотеки sklearn импортируем линейную регрессию\n",
    "from sklearn.linear_model import LinearRegression\n",
    " \n",
    "# создадим объект этого класса и запишем в переменную model\n",
    "model = LinearRegression()\n",
    " \n",
    "# обучим нашу модель\n",
    "model.fit(X_train, y_train)"
   ]
  },
  {
   "cell_type": "code",
   "execution_count": 13,
   "id": "e6ef40d8",
   "metadata": {},
   "outputs": [
    {
     "name": "stdout",
     "output_type": "stream",
     "text": [
      "[4.89685515 5.15704381 5.23787931 4.92549328 4.74998958]\n"
     ]
    }
   ],
   "source": [
    "# на основе нескольких независимых переменных (Х) предскажем глубины протаивания (y)\n",
    "y_pred = model.predict(X_test)\n",
    " \n",
    "# выведем первые пять значений с помощью диапазона индексов\n",
    "print(y_pred[:5])"
   ]
  },
  {
   "cell_type": "markdown",
   "id": "f8822be0",
   "metadata": {},
   "source": [
    "Осталось оценить качество модели. Посчитаем среднеквадратическую ошибку."
   ]
  },
  {
   "cell_type": "code",
   "execution_count": 14,
   "id": "883e5e72",
   "metadata": {},
   "outputs": [
    {
     "name": "stdout",
     "output_type": "stream",
     "text": [
      "Root Mean Squared Error (RMSE): 0.2534970060378631\n"
     ]
    }
   ],
   "source": [
    "# импортируем библиотеку\n",
    "from sklearn import metrics\n",
    " \n",
    "# выведем корень среднеквадратической ошибки\n",
    "# сравним тестовые и прогнозные значения глубин сезонного протаивания\n",
    "print('Root Mean Squared Error (RMSE):', np.sqrt(metrics.mean_squared_error(y_test, y_pred)))\n"
   ]
  },
  {
   "cell_type": "markdown",
   "id": "e159df96",
   "metadata": {},
   "source": [
    "<div class=\"alert alert-info\">\n",
    "    \n",
    "**📝 Комментарий Маши**\n",
    "    \n",
    "Среднеквадратическая ошибка RMSE равна 0.25. Это говорит нам о том, что среднее отклонение между прогнозируемыми набранными баллами и фактическими набранными баллами равно 0.25.\n",
    "\n",
    "На практике мы обычно подгоняем несколько моделей регрессии к набору данных и вычисляем среднеквадратичную ошибку (RMSE) каждой модели. Затем мы выбираем модель с самым низким значением RMSE в качестве «лучшей» модели, потому что именно она делает прогнозы, наиболее близкие к фактическим значениям из набора данных.\n",
    "    \n",
    "</div>\n"
   ]
  },
  {
   "cell_type": "markdown",
   "id": "95ed611c",
   "metadata": {},
   "source": [
    "И рассчитаем критерий качества — коэффициент детерминации (R2 или R-квадрат). R2 показывает, какая доля изменчивости целевой переменной объясняется с помощью нашей модели."
   ]
  },
  {
   "cell_type": "code",
   "execution_count": 15,
   "id": "6f1c3e25",
   "metadata": {},
   "outputs": [
    {
     "name": "stdout",
     "output_type": "stream",
     "text": [
      "R2: 0.11\n"
     ]
    }
   ],
   "source": [
    "# рассчитаем критерий качества - коэффициент детерминации\n",
    "print('R2:', np.round(metrics.r2_score(y_test, y_pred), 2))"
   ]
  },
  {
   "cell_type": "markdown",
   "id": "03660ec5",
   "metadata": {},
   "source": [
    "<div class=\"alert alert-info\">\n",
    "    \n",
    "**📝 Комментарий Маши**\n",
    "    \n",
    "В данном случае мы видим, что лишь 11% изменчивости глубины сезонного протаивания объясняется независимыми переменными, которые мы выбрали для нашей модели.\n",
    "    \n",
    "</div>"
   ]
  },
  {
   "cell_type": "markdown",
   "id": "b0d1e68c",
   "metadata": {},
   "source": [
    "## Вывод\n",
    "\n",
    "Для обучения и оценки регрессионной модели на прогноз глубины сезонного протаивания был использован массив данных, содержащий данные по глубине сезонного протаивания, температуре воздуха, суммах отрицательных и положительных температур, коэффициентам морозности и температурам грунта на разных глубинах для участка \"Ольский перевал\" за 2009-2022 гг. (14 лет).\n",
    "\n",
    "За наиболее значимые признаки были взяты переменные суммы положительных температур, коэффициента морозности и температуры на глубине 10 м., поскольку они имеют наиболее высокую корреляцию с целевой переменной (глубиной сезонного протаивания).\n",
    "\n",
    "После обучения регрессионной модели были получены следующие 5 прогнозных значений глубины сезонного протаивания - 4.9, 5.16, 5.28, 4.93 и 4.75 м. Полученные значения являются близкими к значениям, представленным в датасете.\n",
    "\n",
    "Среднее отклонение между прогнозируемыми набранными значениями и фактическими набранными значениями составило 0.25. Коэффициент детерминации показал, что лишь 11% изменчивости глубины сезонного протаивания объясняется независимыми переменными, которые мы выбрали для нашей модели.\n"
   ]
  },
  {
   "cell_type": "markdown",
   "id": "71c9b0fc",
   "metadata": {},
   "source": [
    "### Литература\n",
    "\n",
    "1. https://digitrain.ru/articles/254066/\n",
    "2. https://habr.com/ru/companies/ods/articles/327242/\n",
    "3. https://www.dmitrymakarov.ru/intro/regression-14/#4-etap-2-predvaritelnaya-obrabotka-dannykh\n",
    "4. Рожина М.С., Железняк М.Н. Реакция деятельного слоя на изменение климата в зоне прерывистого распространения мерзлоты в Магаданской области. Сборник тезисов Научной конференции с международным участием «Актуальные проблемы и перспективы развития геокриологии», посвященная 150-летию и 100-летию со дня рождения ученых-мерзлотоведов Михаила Ивановича Сумгина и Кирилла Фабиановича Войтковского, Якутск (27 июня–30 июня 2023 г.)"
   ]
  }
 ],
 "metadata": {
  "kernelspec": {
   "display_name": "Python 3 (ipykernel)",
   "language": "python",
   "name": "python3"
  },
  "language_info": {
   "codemirror_mode": {
    "name": "ipython",
    "version": 3
   },
   "file_extension": ".py",
   "mimetype": "text/x-python",
   "name": "python",
   "nbconvert_exporter": "python",
   "pygments_lexer": "ipython3",
   "version": "3.9.13"
  }
 },
 "nbformat": 4,
 "nbformat_minor": 5
}
